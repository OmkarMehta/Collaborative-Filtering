{
 "cells": [
  {
   "cell_type": "markdown",
   "metadata": {},
   "source": [
    "# Part 5: Naive Collaborative filtering"
   ]
  },
  {
   "cell_type": "markdown",
   "metadata": {},
   "source": [
    "Design a naive collaborative \f",
    "lter to predict the ratings of the\n",
    "movies in the MovieLens dataset and evaluate it's performance using 10-fold\n",
    "cross validation."
   ]
  },
  {
   "cell_type": "markdown",
   "metadata": {},
   "source": [
    "* An important thing to note about the naive collaborative filter is that there is no notion of training. So, split the dataset into 10 pairs of train set and test set and for each pair predict the ratings of the movies in the test set using the prediction function (no model fitting required). Then compute the RMSE for this fold and repeat the procedure for all the 10 folds. The average RMSE is computed by averaging the RMSE across all the 10 folds."
   ]
  },
  {
   "cell_type": "markdown",
   "metadata": {},
   "source": [
    "## Importing libraries"
   ]
  },
  {
   "cell_type": "code",
   "execution_count": 1,
   "metadata": {},
   "outputs": [],
   "source": [
    "from surprise import BaselineOnly\n",
    "\n",
    "from surprise import Dataset\n",
    "\n",
    "from surprise import Reader\n",
    "\n",
    "from surprise.model_selection import cross_validate\n",
    "\n",
    "import pandas as pd\n",
    "\n",
    "import numpy as np\n",
    "\n",
    "import matplotlib.pyplot as plt\n",
    "\n",
    "import surprise\n",
    "\n",
    "from surprise import accuracy\n",
    "\n",
    "from surprise.model_selection import KFold\n",
    "\n",
    "from math import sqrt\n",
    "\n",
    "import sklearn.metrics\n",
    "\n",
    "import sys, os"
   ]
  },
  {
   "cell_type": "markdown",
   "metadata": {},
   "source": [
    "## Creating data"
   ]
  },
  {
   "cell_type": "code",
   "execution_count": 2,
   "metadata": {},
   "outputs": [
    {
     "name": "stderr",
     "output_type": "stream",
     "text": [
      "C:\\Users\\Omkar Mehta\\Anaconda3\\lib\\site-packages\\ipykernel_launcher.py:11: FutureWarning: Method .as_matrix will be removed in a future version. Use .values instead.\n",
      "  # This is added back by InteractiveShellApp.init_path()\n"
     ]
    }
   ],
   "source": [
    "ratings = pd.read_csv('ratings.csv')\n",
    "\n",
    "if not os.path.exists('results/Q30-34'):\n",
    "\n",
    "    os.makedirs('results/Q30-34')\n",
    "\n",
    "reader = Reader(rating_scale=(1, 5))\n",
    "\n",
    "data = Dataset.load_from_df(ratings[['userId', 'movieId', 'rating']], reader)\n",
    "\n",
    "ratings = ratings.as_matrix()\n"
   ]
  },
  {
   "cell_type": "markdown",
   "metadata": {},
   "source": [
    "## Plot function to get performance"
   ]
  },
  {
   "cell_type": "code",
   "execution_count": 3,
   "metadata": {},
   "outputs": [],
   "source": [
    "def plot(k,metric_v,metric_name,type_data):\n",
    "\n",
    "    x = range(2,k+2,2)\n",
    "\n",
    "    plt.plot(x,metric_v)\n",
    "\n",
    "    plt.xlabel(\"K\")\n",
    "\n",
    "    plt.ylabel(\"Average \"+metric_name)\n",
    "\n",
    "    plt.title(\"Average \"+metric_name+\" for k = \"+str(k)+\" for the \"+type_data+\" dataset\")\n",
    "\n",
    "    plt.savefig(\"Naive: Average \"+metric_name+\" for k = \"+str(k)+\" for the \"+type_data+\" dataset\"+\".png\")\n",
    "\n",
    "    plt.save()\n",
    "    \n",
    "    plt.close()"
   ]
  },
  {
   "cell_type": "markdown",
   "metadata": {},
   "source": [
    "## Popular trimmed testset\n",
    "\n",
    "In this trimming, we trim the test set to contain\n",
    "movies that has received more than 2 ratings. To be specific, if a movie\n",
    "in the test set has received less than or equal to 2 ratings in the entire\n",
    "dataset then we delete that movie from the test set and do not predict the\n",
    "rating of that movie using the trained filter."
   ]
  },
  {
   "cell_type": "code",
   "execution_count": 4,
   "metadata": {},
   "outputs": [],
   "source": [
    "def popular_trim(array,dict):\n",
    "\n",
    "    result = list()\n",
    "\n",
    "    for i in range(0,len(array)):\n",
    "\n",
    "        if(dict[array[i][1]] > 2):\n",
    "\n",
    "            result.append(array[i])\n",
    "\n",
    "    return result\n"
   ]
  },
  {
   "cell_type": "markdown",
   "metadata": {},
   "source": [
    "## Unpopular trimmed testset\n",
    "\n",
    "In this trimming, we trim the test set to\n",
    "contain movies that has received less than or equal to 2 ratings. To be\n",
    "specific, if a movie in the test set has received more than 2 ratings in\n",
    "the entire dataset then we delete that movie from the test set and do not\n",
    "predict the rating of that movie using the trained filter."
   ]
  },
  {
   "cell_type": "code",
   "execution_count": 6,
   "metadata": {},
   "outputs": [],
   "source": [
    "def unpop_trim(array,dict):\n",
    "\n",
    "    result = list()\n",
    "\n",
    "    for i in range(0,len(array)):\n",
    "        if(dict[array[i][1]] <= 2):\n",
    "            result.append(array[i])\n",
    "    return result"
   ]
  },
  {
   "cell_type": "markdown",
   "metadata": {},
   "source": [
    "## High variance trimmed testset\n",
    "\n",
    "In this trimming, we trim the test set to\n",
    "contain movies that has variance (of the rating values received) of at least\n",
    "2 and has received at least 5 ratings in the entire dataset. To be specific,\n",
    "if a movie has variance less than 2 or has received less than 5 ratings in\n",
    "the entire dataset then we delete that movie from the test set and do not\n",
    "predict the rating of that movie using the trained filter."
   ]
  },
  {
   "cell_type": "code",
   "execution_count": 7,
   "metadata": {},
   "outputs": [],
   "source": [
    "def high_var(array,dict,variance, map):\n",
    "\n",
    "    result = list()\n",
    "\n",
    "    for i in range(0,len(array)):\n",
    "\n",
    "        if(dict[array[i][1]] > 5 and variance[map[array[i][1]]] >= 2):\n",
    "\n",
    "            result.append(array[i])\n",
    "\n",
    "    return result"
   ]
  },
  {
   "cell_type": "markdown",
   "metadata": {},
   "source": [
    "## Dictionary of movieID as keys and Count as values"
   ]
  },
  {
   "cell_type": "code",
   "execution_count": 8,
   "metadata": {},
   "outputs": [],
   "source": [
    "q3 = dict()\n",
    "\n",
    "for i in range(0,ratings.shape[0]):\n",
    "\n",
    "    if(ratings[i][1] not in q3):\n",
    "\n",
    "        q3[ratings[i][1]] = 1\n",
    "\n",
    "    else:\n",
    "\n",
    "        q3[ratings[i][1]] = q3[ratings[i][1]]+1"
   ]
  },
  {
   "cell_type": "markdown",
   "metadata": {},
   "source": [
    "## Dictionary of movieID as keys and index_numbers from 0 as values"
   ]
  },
  {
   "cell_type": "code",
   "execution_count": 9,
   "metadata": {},
   "outputs": [],
   "source": [
    "counter = 0\n",
    "\n",
    "map_n = dict()\n",
    "\n",
    "for i in range(0,ratings.shape[0]):\n",
    "\n",
    "    if(ratings[i][1] not in map_n):\n",
    "\n",
    "        map_n[ratings[i][1]] = counter\n",
    "\n",
    "        counter = counter +1"
   ]
  },
  {
   "cell_type": "markdown",
   "metadata": {},
   "source": [
    "## Ratings matrix "
   ]
  },
  {
   "cell_type": "code",
   "execution_count": 18,
   "metadata": {},
   "outputs": [],
   "source": [
    "npdata = np.zeros((650,9724))\n",
    "\n",
    "npdata[:] = np.nan\n",
    "\n",
    "for i in range(0,ratings.shape[0]):\n",
    "\n",
    "    npdata[ratings[i][0].astype(int)][map_n[ratings[i][1]]] = ratings[i][2]\n",
    "\n"
   ]
  },
  {
   "cell_type": "markdown",
   "metadata": {},
   "source": [
    "## Mean and Variance matrix"
   ]
  },
  {
   "cell_type": "code",
   "execution_count": 19,
   "metadata": {},
   "outputs": [
    {
     "name": "stderr",
     "output_type": "stream",
     "text": [
      "C:\\Users\\Omkar Mehta\\Anaconda3\\lib\\site-packages\\ipykernel_launcher.py:1: RuntimeWarning: Mean of empty slice\n",
      "  \"\"\"Entry point for launching an IPython kernel.\n"
     ]
    }
   ],
   "source": [
    "mean = np.nanmean(npdata,axis =1)\n",
    "\n",
    "q5 = np.square(np.nanstd(npdata,axis = 0))\n"
   ]
  },
  {
   "cell_type": "markdown",
   "metadata": {},
   "source": [
    "## Predictions of test set function"
   ]
  },
  {
   "cell_type": "code",
   "execution_count": 36,
   "metadata": {},
   "outputs": [],
   "source": [
    "\n",
    "def test(testset,mean):\n",
    "\n",
    "    pred = list()\n",
    "\n",
    "    for i in range(0,len(testset)):\n",
    "\n",
    "        pred.append(mean[int(testset[0][0])])\n",
    "\n",
    "    return pred"
   ]
  },
  {
   "cell_type": "markdown",
   "metadata": {},
   "source": [
    "## Using Naive collaborative filtering"
   ]
  },
  {
   "cell_type": "code",
   "execution_count": 42,
   "metadata": {},
   "outputs": [],
   "source": [
    "res_test_mae = list()\n",
    "\n",
    "res_test_rmse = list()\n",
    "\n",
    "res_pop = list()\n",
    "\n",
    "res_unpop = list()\n",
    "\n",
    "res_high = list()\n",
    "\n",
    "kf = KFold(n_splits=10)\n",
    "\n",
    "temp_t_n = list()\n",
    "\n",
    "temp_t_r = list()\n",
    "\n",
    "temp_p = list()\n",
    "\n",
    "temp_u = list()\n",
    "\n",
    "temp_h = list()\n",
    "\n",
    "\n",
    "\n",
    "for trainset, testset in kf.split(data):\n",
    "\n",
    "    pop_test = popular_trim(testset,q3)\n",
    "\n",
    "    unpop_test = unpop_trim(testset,q3)\n",
    "\n",
    "    high_test = high_var(testset,q3,q5,map_n)\n",
    "\n",
    "    predictions = test(testset,mean)\n",
    "\n",
    "    temp_t_r.append(sqrt(sklearn.metrics.mean_squared_error(np.array(testset)[:,2],predictions)))\n",
    "\n",
    "    temp_t_n.append(sklearn.metrics.mean_squared_error(np.array(testset)[:,2],predictions))\n",
    "\n",
    "    predictions = test(pop_test,mean)\n",
    "\n",
    "    temp_p.append(sqrt(sklearn.metrics.mean_squared_error(np.array(pop_test)[:,2],predictions)))\n",
    "\n",
    "    predictions = test(unpop_test,mean)\n",
    "\n",
    "    temp_u.append(sqrt(sklearn.metrics.mean_squared_error(np.array(unpop_test)[:,2],predictions)))\n",
    "\n",
    "    predictions = test(high_test,mean)\n",
    "\n",
    "    temp_h.append(sqrt(sklearn.metrics.mean_squared_error(np.array(high_test)[:,2],predictions)))\n",
    "\n",
    "res_test_mae.append(np.average(temp_t_n))    \n",
    "\n",
    "res_test_rmse.append(np.average(temp_t_r))\n",
    "\n",
    "res_pop.append(np.average(temp_p))\n",
    "\n",
    "res_unpop.append(np.average(temp_u))\n",
    "\n",
    "res_high.append(np.average(temp_h))\n",
    "\n"
   ]
  },
  {
   "cell_type": "code",
   "execution_count": 43,
   "metadata": {},
   "outputs": [
    {
     "name": "stdout",
     "output_type": "stream",
     "text": [
      "3.9774266365688487\n",
      "3.4763313609467454\n",
      "3.5444444444444443\n",
      "3.020175438596491\n",
      "2.6420500403551253\n",
      "3.5405405405405403\n",
      "3.945945945945946\n",
      "4.02076124567474\n",
      "3.220472440944882\n",
      "2.761827079934747\n"
     ]
    },
    {
     "data": {
      "text/plain": [
       "10083"
      ]
     },
     "execution_count": 43,
     "metadata": {},
     "output_type": "execute_result"
    }
   ],
   "source": [
    "for trainset, testset in kf.split(data):\n",
    "    print(mean[int(testset[0][0])])\n",
    "len(testset)"
   ]
  },
  {
   "cell_type": "code",
   "execution_count": 44,
   "metadata": {},
   "outputs": [
    {
     "name": "stdout",
     "output_type": "stream",
     "text": [
      "For full test set:\n",
      "RMSE = 1.158145938294227\n",
      "\n",
      "For popular test set:\n",
      "RMSE = 1.1507637692289758\n",
      "\n",
      "For unpopular test set:\n",
      "RMSE = 1.1801425028145975\n",
      "\n",
      "For high variance test set:\n",
      "RMSE = 1.639637521628838\n",
      "\n"
     ]
    }
   ],
   "source": [
    "print(\"For full test set:\")\n",
    "\n",
    "print(\"RMSE = \" + str(res_test_rmse[0]))\n",
    "\n",
    "print()\n",
    "\n",
    "print(\"For popular test set:\")\n",
    "\n",
    "print(\"RMSE = \" + str(res_pop[0]))\n",
    "\n",
    "print()\n",
    "\n",
    "print(\"For unpopular test set:\")\n",
    "\n",
    "print(\"RMSE = \" + str(res_unpop[0]))\n",
    "\n",
    "print()\n",
    "\n",
    "print(\"For high variance test set:\")\n",
    "\n",
    "print(\"RMSE = \" + str(res_high[0]))\n",
    "\n",
    "print()\n",
    "\n",
    "\n"
   ]
  },
  {
   "cell_type": "markdown",
   "metadata": {},
   "source": [
    "## Performance evaluation using ROC curve\n",
    "\n",
    "Plot the ROC curves (threshold = 3) for the k-NN, NNMF, and\n",
    "MF with bias based collaborative filters in the same figure. Use the figure to\n",
    "compare the performance of the filters in predicting the ratings of the movies."
   ]
  },
  {
   "cell_type": "code",
   "execution_count": 45,
   "metadata": {},
   "outputs": [],
   "source": [
    "from sklearn.metrics import roc_curve\n",
    "from sklearn.metrics import roc_auc_score\n",
    "from sklearn.metrics import auc"
   ]
  },
  {
   "cell_type": "code",
   "execution_count": 46,
   "metadata": {},
   "outputs": [],
   "source": [
    "# use the best value of k\n",
    "k_k = 23\n",
    "k_n = 17\n",
    "k_s = 12\n",
    "\n"
   ]
  },
  {
   "cell_type": "markdown",
   "metadata": {},
   "source": [
    "## Predictions for KNN, NMF, MF"
   ]
  },
  {
   "cell_type": "code",
   "execution_count": 47,
   "metadata": {},
   "outputs": [
    {
     "name": "stdout",
     "output_type": "stream",
     "text": [
      "Computing the pearson similarity matrix...\n",
      "Done computing similarity matrix.\n"
     ]
    }
   ],
   "source": [
    "kf = KFold(n_splits=10)\n",
    "y = list()\n",
    "for trainset, testset in kf.split(data):\n",
    "    knn = surprise.prediction_algorithms.knns.KNNBasic(k=k_k, min_k=1, sim_options={'name': 'pearson'})\n",
    "    nmf = surprise.prediction_algorithms.matrix_factorization.NMF(n_factors = k_n)\n",
    "    svd = surprise.prediction_algorithms.matrix_factorization.SVD(n_factors = k_s)\n",
    "    knn.fit(trainset)\n",
    "    nmf.fit(trainset)\n",
    "    svd.fit(trainset)\n",
    "    predictions_k = knn.test(testset)\n",
    "    predictions_n = nmf.test(testset)\n",
    "    predictions_s = svd.test(testset)\n",
    "    y = testset\n",
    "    break"
   ]
  },
  {
   "cell_type": "code",
   "execution_count": 48,
   "metadata": {},
   "outputs": [],
   "source": [
    "pred_k=list()\n",
    "for uid, iid, true_r, est, _ in predictions_k:\n",
    "    pred_k.append(est)\n",
    "\n",
    "pred_n=list()\n",
    "for uid, iid, true_r, est, _ in predictions_n:\n",
    "    pred_n.append(est)\n",
    "\n",
    "pred_s=list()\n",
    "for uid, iid, true_r, est, _ in predictions_s:\n",
    "    pred_s.append(est)"
   ]
  },
  {
   "cell_type": "markdown",
   "metadata": {},
   "source": [
    "## Actual list of testset"
   ]
  },
  {
   "cell_type": "code",
   "execution_count": 49,
   "metadata": {},
   "outputs": [],
   "source": [
    "actual = list(np.array(y)[:,2])"
   ]
  },
  {
   "cell_type": "code",
   "execution_count": 50,
   "metadata": {},
   "outputs": [],
   "source": [
    "testset=list(map(lambda x: 1 if x>3 else 0,actual))"
   ]
  },
  {
   "cell_type": "code",
   "execution_count": 52,
   "metadata": {},
   "outputs": [
    {
     "data": {
      "image/png": "[encoded data removed]",
      "text/plain": [
       "<Figure size 432x288 with 1 Axes>"
      ]
     },
     "metadata": {
      "needs_background": "light"
     },
     "output_type": "display_data"
    }
   ],
   "source": [
    "x,y, _ = roc_curve(list(testset), pred_k) \n",
    "plt.plot(x, y, label=\"KNN\")\n",
    "\n",
    "x,y, _ = roc_curve(list(testset), pred_n)\n",
    "plt.plot(x, y, label=\"NNMF\")\n",
    "\n",
    "x,y, _ = roc_curve(list(testset), pred_s)\n",
    "plt.plot(x, y, label=\"MF B\")\n",
    "\n",
    "plt.xlabel('False Positive Rate (FPR)')\n",
    "plt.ylabel('True Positive Rate (TPR)')\n",
    "plt.title(\"Comparison of KNN, NNMF, MF B\")\n",
    "plt.legend()\n",
    "plt.savefig(\"ROC curve for KNN, NMF,MF.png\")\n",
    "\n",
    "plt.show()\n",
    "plt.close()"
   ]
  },
  {
   "cell_type": "markdown",
   "metadata": {},
   "source": [
    "**The area under the curve signifies the accuracy of the model, so, more the AUC, more the\n",
    "accuracy. As we can see from the plot, the maximum AUC is for the MF with bias based filter,\n",
    "which means that, it has the highest accuracy. Also, we can see that it always has the maximum\n",
    "TPR. We can further prove this result by observing the average RMSE values for the three\n",
    "models; the MF with bias model has the minimum average RMSE, further proving that it has the\n",
    "best performance in predicting the ratings of the movies.**"
   ]
  },
  {
   "cell_type": "code",
   "execution_count": null,
   "metadata": {},
   "outputs": [],
   "source": []
  }
 ],
 "metadata": {
  "kernelspec": {
   "display_name": "Python 3",
   "language": "python",
   "name": "python3"
  },
  "language_info": {
   "codemirror_mode": {
    "name": "ipython",
    "version": 3
   },
   "file_extension": ".py",
   "mimetype": "text/x-python",
   "name": "python",
   "nbconvert_exporter": "python",
   "pygments_lexer": "ipython3",
   "version": "3.7.1"
  }
 },
 "nbformat": 4,
 "nbformat_minor": 2
}

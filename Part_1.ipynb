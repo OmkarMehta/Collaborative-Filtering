{
 "cells": [
  {
   "cell_type": "markdown",
   "metadata": {},
   "source": [
    "# Part 1: MovieLens dataset\n",
    "\n",
    "Download the dataset from [here](http://files.grouplens.org/datasets/movielens/ml-latest-small.zip) \n",
    "The main aim is to build a recommendation system to predict the ratings of the movies in the MovieLens Dataset.\n",
    "\n",
    "Let's first explore dataset before we move to building a recommendation system."
   ]
  },
  {
   "cell_type": "markdown",
   "metadata": {},
   "source": [
    "## 1. Sparsity\n",
    "\n",
    "The main challenge in designing collaborative methods is that, the underlying ratings matrices\n",
    "are sparse. This can be because most users would have viewed only a small fraction of the large\n",
    "universe of available movies, and as a result, most of the ratings are unspecified, making the\n",
    "ratings matrices sparse."
   ]
  },
  {
   "cell_type": "code",
   "execution_count": 2,
   "metadata": {},
   "outputs": [
    {
     "name": "stdout",
     "output_type": "stream",
     "text": [
      "Sparsity: 0.01633285017250883\n"
     ]
    }
   ],
   "source": [
    "available_ratings = 100004\n",
    "n_movies = 9125\n",
    "n_users = 671\n",
    "possible_ratings = n_movies * n_users\n",
    "sparsity = available_ratings/possible_ratings\n",
    "print('Sparsity:', sparsity)"
   ]
  },
  {
   "cell_type": "markdown",
   "metadata": {},
   "source": [
    "## 2. Plot histogram\n",
    "\n",
    "Plot a histogram showing the frequency of the rating values."
   ]
  },
  {
   "cell_type": "code",
   "execution_count": 3,
   "metadata": {},
   "outputs": [],
   "source": [
    "import pandas as pd"
   ]
  },
  {
   "cell_type": "code",
   "execution_count": 4,
   "metadata": {},
   "outputs": [],
   "source": [
    "ratings = pd.read_csv('ratings.csv')"
   ]
  },
  {
   "cell_type": "code",
   "execution_count": 165,
   "metadata": {},
   "outputs": [
    {
     "data": {
      "text/html": [
       "<div>\n",
       "<style scoped>\n",
       "    .dataframe tbody tr th:only-of-type {\n",
       "        vertical-align: middle;\n",
       "    }\n",
       "\n",
       "    .dataframe tbody tr th {\n",
       "        vertical-align: top;\n",
       "    }\n",
       "\n",
       "    .dataframe thead th {\n",
       "        text-align: right;\n",
       "    }\n",
       "</style>\n",
       "<table border=\"1\" class=\"dataframe\">\n",
       "  <thead>\n",
       "    <tr style=\"text-align: right;\">\n",
       "      <th></th>\n",
       "      <th>0</th>\n",
       "      <th>1</th>\n",
       "      <th>2</th>\n",
       "      <th>3</th>\n",
       "    </tr>\n",
       "  </thead>\n",
       "  <tbody>\n",
       "    <tr>\n",
       "      <th>0</th>\n",
       "      <td>1.0</td>\n",
       "      <td>1.0</td>\n",
       "      <td>4.0</td>\n",
       "      <td>9.649827e+08</td>\n",
       "    </tr>\n",
       "    <tr>\n",
       "      <th>1</th>\n",
       "      <td>1.0</td>\n",
       "      <td>3.0</td>\n",
       "      <td>4.0</td>\n",
       "      <td>9.649812e+08</td>\n",
       "    </tr>\n",
       "    <tr>\n",
       "      <th>2</th>\n",
       "      <td>1.0</td>\n",
       "      <td>6.0</td>\n",
       "      <td>4.0</td>\n",
       "      <td>9.649822e+08</td>\n",
       "    </tr>\n",
       "    <tr>\n",
       "      <th>3</th>\n",
       "      <td>1.0</td>\n",
       "      <td>47.0</td>\n",
       "      <td>5.0</td>\n",
       "      <td>9.649838e+08</td>\n",
       "    </tr>\n",
       "    <tr>\n",
       "      <th>4</th>\n",
       "      <td>1.0</td>\n",
       "      <td>50.0</td>\n",
       "      <td>5.0</td>\n",
       "      <td>9.649829e+08</td>\n",
       "    </tr>\n",
       "    <tr>\n",
       "      <th>5</th>\n",
       "      <td>1.0</td>\n",
       "      <td>70.0</td>\n",
       "      <td>3.0</td>\n",
       "      <td>9.649824e+08</td>\n",
       "    </tr>\n",
       "    <tr>\n",
       "      <th>6</th>\n",
       "      <td>1.0</td>\n",
       "      <td>101.0</td>\n",
       "      <td>5.0</td>\n",
       "      <td>9.649809e+08</td>\n",
       "    </tr>\n",
       "    <tr>\n",
       "      <th>7</th>\n",
       "      <td>1.0</td>\n",
       "      <td>110.0</td>\n",
       "      <td>4.0</td>\n",
       "      <td>9.649822e+08</td>\n",
       "    </tr>\n",
       "    <tr>\n",
       "      <th>8</th>\n",
       "      <td>1.0</td>\n",
       "      <td>151.0</td>\n",
       "      <td>5.0</td>\n",
       "      <td>9.649840e+08</td>\n",
       "    </tr>\n",
       "    <tr>\n",
       "      <th>9</th>\n",
       "      <td>1.0</td>\n",
       "      <td>157.0</td>\n",
       "      <td>5.0</td>\n",
       "      <td>9.649841e+08</td>\n",
       "    </tr>\n",
       "    <tr>\n",
       "      <th>10</th>\n",
       "      <td>1.0</td>\n",
       "      <td>163.0</td>\n",
       "      <td>5.0</td>\n",
       "      <td>9.649836e+08</td>\n",
       "    </tr>\n",
       "    <tr>\n",
       "      <th>11</th>\n",
       "      <td>1.0</td>\n",
       "      <td>216.0</td>\n",
       "      <td>5.0</td>\n",
       "      <td>9.649812e+08</td>\n",
       "    </tr>\n",
       "    <tr>\n",
       "      <th>12</th>\n",
       "      <td>1.0</td>\n",
       "      <td>223.0</td>\n",
       "      <td>3.0</td>\n",
       "      <td>9.649810e+08</td>\n",
       "    </tr>\n",
       "    <tr>\n",
       "      <th>13</th>\n",
       "      <td>1.0</td>\n",
       "      <td>231.0</td>\n",
       "      <td>5.0</td>\n",
       "      <td>9.649812e+08</td>\n",
       "    </tr>\n",
       "    <tr>\n",
       "      <th>14</th>\n",
       "      <td>1.0</td>\n",
       "      <td>235.0</td>\n",
       "      <td>4.0</td>\n",
       "      <td>9.649809e+08</td>\n",
       "    </tr>\n",
       "    <tr>\n",
       "      <th>15</th>\n",
       "      <td>1.0</td>\n",
       "      <td>260.0</td>\n",
       "      <td>5.0</td>\n",
       "      <td>9.649817e+08</td>\n",
       "    </tr>\n",
       "    <tr>\n",
       "      <th>16</th>\n",
       "      <td>1.0</td>\n",
       "      <td>296.0</td>\n",
       "      <td>3.0</td>\n",
       "      <td>9.649830e+08</td>\n",
       "    </tr>\n",
       "    <tr>\n",
       "      <th>17</th>\n",
       "      <td>1.0</td>\n",
       "      <td>316.0</td>\n",
       "      <td>3.0</td>\n",
       "      <td>9.649823e+08</td>\n",
       "    </tr>\n",
       "    <tr>\n",
       "      <th>18</th>\n",
       "      <td>1.0</td>\n",
       "      <td>333.0</td>\n",
       "      <td>5.0</td>\n",
       "      <td>9.649812e+08</td>\n",
       "    </tr>\n",
       "    <tr>\n",
       "      <th>19</th>\n",
       "      <td>1.0</td>\n",
       "      <td>349.0</td>\n",
       "      <td>4.0</td>\n",
       "      <td>9.649826e+08</td>\n",
       "    </tr>\n",
       "    <tr>\n",
       "      <th>20</th>\n",
       "      <td>1.0</td>\n",
       "      <td>356.0</td>\n",
       "      <td>4.0</td>\n",
       "      <td>9.649810e+08</td>\n",
       "    </tr>\n",
       "    <tr>\n",
       "      <th>21</th>\n",
       "      <td>1.0</td>\n",
       "      <td>362.0</td>\n",
       "      <td>5.0</td>\n",
       "      <td>9.649826e+08</td>\n",
       "    </tr>\n",
       "    <tr>\n",
       "      <th>22</th>\n",
       "      <td>1.0</td>\n",
       "      <td>367.0</td>\n",
       "      <td>4.0</td>\n",
       "      <td>9.649817e+08</td>\n",
       "    </tr>\n",
       "    <tr>\n",
       "      <th>23</th>\n",
       "      <td>1.0</td>\n",
       "      <td>423.0</td>\n",
       "      <td>3.0</td>\n",
       "      <td>9.649824e+08</td>\n",
       "    </tr>\n",
       "    <tr>\n",
       "      <th>24</th>\n",
       "      <td>1.0</td>\n",
       "      <td>441.0</td>\n",
       "      <td>4.0</td>\n",
       "      <td>9.649809e+08</td>\n",
       "    </tr>\n",
       "    <tr>\n",
       "      <th>25</th>\n",
       "      <td>1.0</td>\n",
       "      <td>457.0</td>\n",
       "      <td>5.0</td>\n",
       "      <td>9.649819e+08</td>\n",
       "    </tr>\n",
       "    <tr>\n",
       "      <th>26</th>\n",
       "      <td>1.0</td>\n",
       "      <td>480.0</td>\n",
       "      <td>4.0</td>\n",
       "      <td>9.649823e+08</td>\n",
       "    </tr>\n",
       "    <tr>\n",
       "      <th>27</th>\n",
       "      <td>1.0</td>\n",
       "      <td>500.0</td>\n",
       "      <td>3.0</td>\n",
       "      <td>9.649812e+08</td>\n",
       "    </tr>\n",
       "    <tr>\n",
       "      <th>28</th>\n",
       "      <td>1.0</td>\n",
       "      <td>527.0</td>\n",
       "      <td>5.0</td>\n",
       "      <td>9.649840e+08</td>\n",
       "    </tr>\n",
       "    <tr>\n",
       "      <th>29</th>\n",
       "      <td>1.0</td>\n",
       "      <td>543.0</td>\n",
       "      <td>4.0</td>\n",
       "      <td>9.649812e+08</td>\n",
       "    </tr>\n",
       "    <tr>\n",
       "      <th>...</th>\n",
       "      <td>...</td>\n",
       "      <td>...</td>\n",
       "      <td>...</td>\n",
       "      <td>...</td>\n",
       "    </tr>\n",
       "    <tr>\n",
       "      <th>100806</th>\n",
       "      <td>610.0</td>\n",
       "      <td>150401.0</td>\n",
       "      <td>3.0</td>\n",
       "      <td>1.479543e+09</td>\n",
       "    </tr>\n",
       "    <tr>\n",
       "      <th>100807</th>\n",
       "      <td>610.0</td>\n",
       "      <td>152077.0</td>\n",
       "      <td>4.0</td>\n",
       "      <td>1.493846e+09</td>\n",
       "    </tr>\n",
       "    <tr>\n",
       "      <th>100808</th>\n",
       "      <td>610.0</td>\n",
       "      <td>152081.0</td>\n",
       "      <td>4.0</td>\n",
       "      <td>1.493847e+09</td>\n",
       "    </tr>\n",
       "    <tr>\n",
       "      <th>100809</th>\n",
       "      <td>610.0</td>\n",
       "      <td>152372.0</td>\n",
       "      <td>3.5</td>\n",
       "      <td>1.493849e+09</td>\n",
       "    </tr>\n",
       "    <tr>\n",
       "      <th>100810</th>\n",
       "      <td>610.0</td>\n",
       "      <td>155064.0</td>\n",
       "      <td>3.5</td>\n",
       "      <td>1.493848e+09</td>\n",
       "    </tr>\n",
       "    <tr>\n",
       "      <th>100811</th>\n",
       "      <td>610.0</td>\n",
       "      <td>156371.0</td>\n",
       "      <td>5.0</td>\n",
       "      <td>1.479543e+09</td>\n",
       "    </tr>\n",
       "    <tr>\n",
       "      <th>100812</th>\n",
       "      <td>610.0</td>\n",
       "      <td>156726.0</td>\n",
       "      <td>4.5</td>\n",
       "      <td>1.493848e+09</td>\n",
       "    </tr>\n",
       "    <tr>\n",
       "      <th>100813</th>\n",
       "      <td>610.0</td>\n",
       "      <td>157296.0</td>\n",
       "      <td>4.0</td>\n",
       "      <td>1.493847e+09</td>\n",
       "    </tr>\n",
       "    <tr>\n",
       "      <th>100814</th>\n",
       "      <td>610.0</td>\n",
       "      <td>158238.0</td>\n",
       "      <td>5.0</td>\n",
       "      <td>1.479545e+09</td>\n",
       "    </tr>\n",
       "    <tr>\n",
       "      <th>100815</th>\n",
       "      <td>610.0</td>\n",
       "      <td>158721.0</td>\n",
       "      <td>3.5</td>\n",
       "      <td>1.479542e+09</td>\n",
       "    </tr>\n",
       "    <tr>\n",
       "      <th>100816</th>\n",
       "      <td>610.0</td>\n",
       "      <td>158872.0</td>\n",
       "      <td>3.5</td>\n",
       "      <td>1.493848e+09</td>\n",
       "    </tr>\n",
       "    <tr>\n",
       "      <th>100817</th>\n",
       "      <td>610.0</td>\n",
       "      <td>158956.0</td>\n",
       "      <td>3.0</td>\n",
       "      <td>1.493849e+09</td>\n",
       "    </tr>\n",
       "    <tr>\n",
       "      <th>100818</th>\n",
       "      <td>610.0</td>\n",
       "      <td>159093.0</td>\n",
       "      <td>3.0</td>\n",
       "      <td>1.493848e+09</td>\n",
       "    </tr>\n",
       "    <tr>\n",
       "      <th>100819</th>\n",
       "      <td>610.0</td>\n",
       "      <td>160080.0</td>\n",
       "      <td>3.0</td>\n",
       "      <td>1.493848e+09</td>\n",
       "    </tr>\n",
       "    <tr>\n",
       "      <th>100820</th>\n",
       "      <td>610.0</td>\n",
       "      <td>160341.0</td>\n",
       "      <td>2.5</td>\n",
       "      <td>1.479546e+09</td>\n",
       "    </tr>\n",
       "    <tr>\n",
       "      <th>100821</th>\n",
       "      <td>610.0</td>\n",
       "      <td>160527.0</td>\n",
       "      <td>4.5</td>\n",
       "      <td>1.479545e+09</td>\n",
       "    </tr>\n",
       "    <tr>\n",
       "      <th>100822</th>\n",
       "      <td>610.0</td>\n",
       "      <td>160571.0</td>\n",
       "      <td>3.0</td>\n",
       "      <td>1.493849e+09</td>\n",
       "    </tr>\n",
       "    <tr>\n",
       "      <th>100823</th>\n",
       "      <td>610.0</td>\n",
       "      <td>160836.0</td>\n",
       "      <td>3.0</td>\n",
       "      <td>1.493845e+09</td>\n",
       "    </tr>\n",
       "    <tr>\n",
       "      <th>100824</th>\n",
       "      <td>610.0</td>\n",
       "      <td>161582.0</td>\n",
       "      <td>4.0</td>\n",
       "      <td>1.493848e+09</td>\n",
       "    </tr>\n",
       "    <tr>\n",
       "      <th>100825</th>\n",
       "      <td>610.0</td>\n",
       "      <td>161634.0</td>\n",
       "      <td>4.0</td>\n",
       "      <td>1.493848e+09</td>\n",
       "    </tr>\n",
       "    <tr>\n",
       "      <th>100826</th>\n",
       "      <td>610.0</td>\n",
       "      <td>162350.0</td>\n",
       "      <td>3.5</td>\n",
       "      <td>1.493850e+09</td>\n",
       "    </tr>\n",
       "    <tr>\n",
       "      <th>100827</th>\n",
       "      <td>610.0</td>\n",
       "      <td>163937.0</td>\n",
       "      <td>3.5</td>\n",
       "      <td>1.493849e+09</td>\n",
       "    </tr>\n",
       "    <tr>\n",
       "      <th>100828</th>\n",
       "      <td>610.0</td>\n",
       "      <td>163981.0</td>\n",
       "      <td>3.5</td>\n",
       "      <td>1.493850e+09</td>\n",
       "    </tr>\n",
       "    <tr>\n",
       "      <th>100829</th>\n",
       "      <td>610.0</td>\n",
       "      <td>164179.0</td>\n",
       "      <td>5.0</td>\n",
       "      <td>1.493846e+09</td>\n",
       "    </tr>\n",
       "    <tr>\n",
       "      <th>100830</th>\n",
       "      <td>610.0</td>\n",
       "      <td>166528.0</td>\n",
       "      <td>4.0</td>\n",
       "      <td>1.493879e+09</td>\n",
       "    </tr>\n",
       "    <tr>\n",
       "      <th>100831</th>\n",
       "      <td>610.0</td>\n",
       "      <td>166534.0</td>\n",
       "      <td>4.0</td>\n",
       "      <td>1.493848e+09</td>\n",
       "    </tr>\n",
       "    <tr>\n",
       "      <th>100832</th>\n",
       "      <td>610.0</td>\n",
       "      <td>168248.0</td>\n",
       "      <td>5.0</td>\n",
       "      <td>1.493850e+09</td>\n",
       "    </tr>\n",
       "    <tr>\n",
       "      <th>100833</th>\n",
       "      <td>610.0</td>\n",
       "      <td>168250.0</td>\n",
       "      <td>5.0</td>\n",
       "      <td>1.494273e+09</td>\n",
       "    </tr>\n",
       "    <tr>\n",
       "      <th>100834</th>\n",
       "      <td>610.0</td>\n",
       "      <td>168252.0</td>\n",
       "      <td>5.0</td>\n",
       "      <td>1.493846e+09</td>\n",
       "    </tr>\n",
       "    <tr>\n",
       "      <th>100835</th>\n",
       "      <td>610.0</td>\n",
       "      <td>170875.0</td>\n",
       "      <td>3.0</td>\n",
       "      <td>1.493846e+09</td>\n",
       "    </tr>\n",
       "  </tbody>\n",
       "</table>\n",
       "<p>100836 rows × 4 columns</p>\n",
       "</div>"
      ],
      "text/plain": [
       "            0         1    2             3\n",
       "0         1.0       1.0  4.0  9.649827e+08\n",
       "1         1.0       3.0  4.0  9.649812e+08\n",
       "2         1.0       6.0  4.0  9.649822e+08\n",
       "3         1.0      47.0  5.0  9.649838e+08\n",
       "4         1.0      50.0  5.0  9.649829e+08\n",
       "5         1.0      70.0  3.0  9.649824e+08\n",
       "6         1.0     101.0  5.0  9.649809e+08\n",
       "7         1.0     110.0  4.0  9.649822e+08\n",
       "8         1.0     151.0  5.0  9.649840e+08\n",
       "9         1.0     157.0  5.0  9.649841e+08\n",
       "10        1.0     163.0  5.0  9.649836e+08\n",
       "11        1.0     216.0  5.0  9.649812e+08\n",
       "12        1.0     223.0  3.0  9.649810e+08\n",
       "13        1.0     231.0  5.0  9.649812e+08\n",
       "14        1.0     235.0  4.0  9.649809e+08\n",
       "15        1.0     260.0  5.0  9.649817e+08\n",
       "16        1.0     296.0  3.0  9.649830e+08\n",
       "17        1.0     316.0  3.0  9.649823e+08\n",
       "18        1.0     333.0  5.0  9.649812e+08\n",
       "19        1.0     349.0  4.0  9.649826e+08\n",
       "20        1.0     356.0  4.0  9.649810e+08\n",
       "21        1.0     362.0  5.0  9.649826e+08\n",
       "22        1.0     367.0  4.0  9.649817e+08\n",
       "23        1.0     423.0  3.0  9.649824e+08\n",
       "24        1.0     441.0  4.0  9.649809e+08\n",
       "25        1.0     457.0  5.0  9.649819e+08\n",
       "26        1.0     480.0  4.0  9.649823e+08\n",
       "27        1.0     500.0  3.0  9.649812e+08\n",
       "28        1.0     527.0  5.0  9.649840e+08\n",
       "29        1.0     543.0  4.0  9.649812e+08\n",
       "...       ...       ...  ...           ...\n",
       "100806  610.0  150401.0  3.0  1.479543e+09\n",
       "100807  610.0  152077.0  4.0  1.493846e+09\n",
       "100808  610.0  152081.0  4.0  1.493847e+09\n",
       "100809  610.0  152372.0  3.5  1.493849e+09\n",
       "100810  610.0  155064.0  3.5  1.493848e+09\n",
       "100811  610.0  156371.0  5.0  1.479543e+09\n",
       "100812  610.0  156726.0  4.5  1.493848e+09\n",
       "100813  610.0  157296.0  4.0  1.493847e+09\n",
       "100814  610.0  158238.0  5.0  1.479545e+09\n",
       "100815  610.0  158721.0  3.5  1.479542e+09\n",
       "100816  610.0  158872.0  3.5  1.493848e+09\n",
       "100817  610.0  158956.0  3.0  1.493849e+09\n",
       "100818  610.0  159093.0  3.0  1.493848e+09\n",
       "100819  610.0  160080.0  3.0  1.493848e+09\n",
       "100820  610.0  160341.0  2.5  1.479546e+09\n",
       "100821  610.0  160527.0  4.5  1.479545e+09\n",
       "100822  610.0  160571.0  3.0  1.493849e+09\n",
       "100823  610.0  160836.0  3.0  1.493845e+09\n",
       "100824  610.0  161582.0  4.0  1.493848e+09\n",
       "100825  610.0  161634.0  4.0  1.493848e+09\n",
       "100826  610.0  162350.0  3.5  1.493850e+09\n",
       "100827  610.0  163937.0  3.5  1.493849e+09\n",
       "100828  610.0  163981.0  3.5  1.493850e+09\n",
       "100829  610.0  164179.0  5.0  1.493846e+09\n",
       "100830  610.0  166528.0  4.0  1.493879e+09\n",
       "100831  610.0  166534.0  4.0  1.493848e+09\n",
       "100832  610.0  168248.0  5.0  1.493850e+09\n",
       "100833  610.0  168250.0  5.0  1.494273e+09\n",
       "100834  610.0  168252.0  5.0  1.493846e+09\n",
       "100835  610.0  170875.0  3.0  1.493846e+09\n",
       "\n",
       "[100836 rows x 4 columns]"
      ]
     },
     "execution_count": 165,
     "metadata": {},
     "output_type": "execute_result"
    }
   ],
   "source": [
    "ratings_df=pd.DataFrame(ratings)\n",
    "ratings_df"
   ]
  },
  {
   "cell_type": "markdown",
   "metadata": {},
   "source": [
    "We will be using Suprise library for recommendation systems. Learn more about it [here](http://surpriselib.com/)"
   ]
  },
  {
   "cell_type": "code",
   "execution_count": 5,
   "metadata": {},
   "outputs": [],
   "source": [
    "import os"
   ]
  },
  {
   "cell_type": "code",
   "execution_count": 6,
   "metadata": {},
   "outputs": [],
   "source": [
    "if not os.path.exists('results'):\n",
    "\n",
    "    os.makedirs('results')"
   ]
  },
  {
   "cell_type": "markdown",
   "metadata": {},
   "source": [
    "The Reader class is used to parse a file containing ratings."
   ]
  },
  {
   "cell_type": "code",
   "execution_count": 7,
   "metadata": {},
   "outputs": [],
   "source": [
    "from surprise import Reader"
   ]
  },
  {
   "cell_type": "code",
   "execution_count": 8,
   "metadata": {},
   "outputs": [],
   "source": [
    "reader = Reader(rating_scale=(1,5))"
   ]
  },
  {
   "cell_type": "markdown",
   "metadata": {},
   "source": [
    "Base class for loading datasets."
   ]
  },
  {
   "cell_type": "code",
   "execution_count": 9,
   "metadata": {},
   "outputs": [],
   "source": [
    "from surprise import Dataset"
   ]
  },
  {
   "cell_type": "code",
   "execution_count": 11,
   "metadata": {},
   "outputs": [],
   "source": [
    "data = Dataset.load_from_df(ratings[['userId', 'movieId', 'rating']], reader)"
   ]
  },
  {
   "cell_type": "code",
   "execution_count": 20,
   "metadata": {},
   "outputs": [
    {
     "data": {
      "text/plain": [
       "<surprise.dataset.DatasetAutoFolds at 0x21ac0da3c50>"
      ]
     },
     "execution_count": 20,
     "metadata": {},
     "output_type": "execute_result"
    }
   ],
   "source": [
    "data"
   ]
  },
  {
   "cell_type": "code",
   "execution_count": 19,
   "metadata": {},
   "outputs": [],
   "source": [
    "#data.df"
   ]
  },
  {
   "cell_type": "code",
   "execution_count": 21,
   "metadata": {},
   "outputs": [
    {
     "name": "stderr",
     "output_type": "stream",
     "text": [
      "C:\\Users\\Omkar Mehta\\Anaconda3\\lib\\site-packages\\ipykernel_launcher.py:2: FutureWarning: Method .as_matrix will be removed in a future version. Use .values instead.\n",
      "  \n"
     ]
    }
   ],
   "source": [
    "#Convert the frame to its Numpy-array representation.\n",
    "ratings = ratings.as_matrix()"
   ]
  },
  {
   "cell_type": "code",
   "execution_count": 22,
   "metadata": {},
   "outputs": [
    {
     "data": {
      "text/plain": [
       "array([[1.00000000e+00, 1.00000000e+00, 4.00000000e+00, 9.64982703e+08],\n",
       "       [1.00000000e+00, 3.00000000e+00, 4.00000000e+00, 9.64981247e+08],\n",
       "       [1.00000000e+00, 6.00000000e+00, 4.00000000e+00, 9.64982224e+08],\n",
       "       ...,\n",
       "       [6.10000000e+02, 1.68250000e+05, 5.00000000e+00, 1.49427305e+09],\n",
       "       [6.10000000e+02, 1.68252000e+05, 5.00000000e+00, 1.49384635e+09],\n",
       "       [6.10000000e+02, 1.70875000e+05, 3.00000000e+00, 1.49384642e+09]])"
      ]
     },
     "execution_count": 22,
     "metadata": {},
     "output_type": "execute_result"
    }
   ],
   "source": [
    "ratings"
   ]
  },
  {
   "cell_type": "markdown",
   "metadata": {},
   "source": [
    "Making histogram"
   ]
  },
  {
   "cell_type": "code",
   "execution_count": 23,
   "metadata": {},
   "outputs": [],
   "source": [
    "import matplotlib.pyplot as plt"
   ]
  },
  {
   "cell_type": "code",
   "execution_count": 91,
   "metadata": {},
   "outputs": [
    {
     "data": {
      "image/png": "[encoded data removed]",
      "text/plain": [
       "<Figure size 432x288 with 1 Axes>"
      ]
     },
     "metadata": {
      "needs_background": "light"
     },
     "output_type": "display_data"
    }
   ],
   "source": [
    "plt.hist(ratings[:,2], bins = [0,0.5,1,1.5,2,2.5,3,3.5,4,4.5,5], edgecolor = \"k\")\n",
    "plt.xlabel(\"Rating Values\")\n",
    "\n",
    "plt.ylabel(\"Number of Entries in Rating\")\n",
    "\n",
    "plt.title(\"Frequency of Rating Values\")\n",
    "plt.savefig(\"histogram.png\")\n",
    "plt.show()\n",
    "plt.close()"
   ]
  },
  {
   "cell_type": "markdown",
   "metadata": {},
   "source": [
    "**As we can see from the histogram, the number of entries for the rating values upto 3 is very low\n",
    "as compared to that for rating values higher than 3. This shows that the users usually rate a\n",
    "movie, only when they find it above average (i.e., rating>3). Only a small percentage of the users\n",
    "take the effort to rate the movies when they don’t like it.**"
   ]
  },
  {
   "cell_type": "markdown",
   "metadata": {},
   "source": [
    "## 3. Plot the distribution of ratings among movies\n",
    "\n",
    "To be specific,\n",
    "the X-axis should be the movie index ordered by decreasing frequency and the\n",
    "Y -axis should be the number of ratings the movie has received."
   ]
  },
  {
   "cell_type": "code",
   "execution_count": 30,
   "metadata": {},
   "outputs": [],
   "source": [
    "import numpy as np"
   ]
  },
  {
   "cell_type": "code",
   "execution_count": 150,
   "metadata": {},
   "outputs": [
    {
     "data": {
      "text/plain": [
       "9724"
      ]
     },
     "execution_count": 150,
     "metadata": {},
     "output_type": "execute_result"
    }
   ],
   "source": [
    "b = ratings_df[1].unique() #Gives unique elements, 1 corresponds to movieID\n",
    "a = ratings_df.groupby(1).size() #Gives the count of each element by its movieID\n",
    "a_ = np.array(a)\n",
    "a_\n"
   ]
  },
  {
   "cell_type": "code",
   "execution_count": 156,
   "metadata": {},
   "outputs": [],
   "source": [
    "sorted_index_movies = pd.DataFrame({'unique_movieID':b, 'frequency of each movieID':a_})\n",
    "sorted_index_movies = sorted_index_movies.sort_values(by=['frequency of each movieID'], ascending = False)\n"
   ]
  },
  {
   "cell_type": "code",
   "execution_count": 157,
   "metadata": {},
   "outputs": [],
   "source": [
    "y = np.array(sorted_index_movies['frequency of each movieID'])"
   ]
  },
  {
   "cell_type": "code",
   "execution_count": 170,
   "metadata": {},
   "outputs": [
    {
     "data": {
      "image/png": "[encoded data removed]",
      "text/plain": [
       "<Figure size 432x288 with 1 Axes>"
      ]
     },
     "metadata": {
      "needs_background": "light"
     },
     "output_type": "display_data"
    }
   ],
   "source": [
    "plt.plot(y)\n",
    "\n",
    "plt.title(\"Distribution of Rating among Movies\")\n",
    "plt.xlabel(\"Movie index by decreasing Frequency\")\n",
    "plt.ylabel(\"Number of Ratings per Movie\")\n",
    "\n",
    "\n",
    "plt.show()\n",
    "plt.savefig(\"distribution_of_rating_among_movies.png\")\n",
    "\n",
    "plt.close()"
   ]
  },
  {
   "cell_type": "markdown",
   "metadata": {},
   "source": [
    "**As we can see from the graph, a small fraction of the movies have a large number of ratings, i.e.,\n",
    "more than 100. Also, the number of ratings for a large number of movies, after a given point,\n",
    "stabilises and stays around 10-15 ratings per movie.**\n",
    "\n",
    "**The plot has the movie indices ordered by decreasing frequency on the X-axis,\n",
    "and the number of ratings the movie has received on the Y-axis. This plot confirms that our\n",
    "rating matrices are sparse, which further proves that the collaborative filtering model would be\n",
    "the best choice for our dataset, even though we can’t guarantee the optimal accuracy.**"
   ]
  },
  {
   "cell_type": "code",
   "execution_count": 154,
   "metadata": {},
   "outputs": [
    {
     "data": {
      "text/plain": [
       "'\\n#find the unique movie indexes\\ncounter = 0\\n\\nmap = dict()\\n\\nfor i in range(0,ratings.shape[0]):\\n\\n    if(ratings[i][1] not in map):\\n\\n        map[ratings[i][1]] = counter\\n\\n        counter = counter +1\\n#Count the number of times movie index occured\\nq3 = dict()\\n\\nfor i in range(0,ratings.shape[0]):\\n\\n    if(ratings[i][1] not in q3):\\n\\n        q3[ratings[i][1]] = 1\\n\\n    else:\\n\\n        q3[ratings[i][1]] = q3[ratings[i][1]]+1\\n\\n\\n\\nq3_sorted_keys = sorted(q3, key=q3.get, reverse=True)\\n\\nx = list()\\n\\ny = list()\\n\\nfor i in q3_sorted_keys:\\n\\n    x.append(i)\\n\\n    y.append(q3[i])\\n\\n\\n\\nplt.plot(y)\\n\\nplt.title(\"Distribution of Rating among Movies\")\\nplt.xlabel(\"Movie index by decreasing Frequency\")\\nplt.ylabel(\"Number of Ratings per Movie\")\\n\\n\\nplt.show()\\nplt.savefig(\"distribution_of_rating_among_movies.png\")\\n\\nplt.close()\\n'"
      ]
     },
     "execution_count": 154,
     "metadata": {},
     "output_type": "execute_result"
    }
   ],
   "source": [
    "#Using for loops to get the same result\n",
    "'''\n",
    "#find the unique movie indexes\n",
    "counter = 0\n",
    "\n",
    "map = dict()\n",
    "\n",
    "for i in range(0,ratings.shape[0]):\n",
    "\n",
    "    if(ratings[i][1] not in map):\n",
    "\n",
    "        map[ratings[i][1]] = counter\n",
    "\n",
    "        counter = counter +1\n",
    "#Count the number of times movie index occured\n",
    "q3 = dict()\n",
    "\n",
    "for i in range(0,ratings.shape[0]):\n",
    "\n",
    "    if(ratings[i][1] not in q3):\n",
    "\n",
    "        q3[ratings[i][1]] = 1\n",
    "\n",
    "    else:\n",
    "\n",
    "        q3[ratings[i][1]] = q3[ratings[i][1]]+1\n",
    "\n",
    "\n",
    "\n",
    "q3_sorted_keys = sorted(q3, key=q3.get, reverse=True)\n",
    "\n",
    "x = list()\n",
    "\n",
    "y = list()\n",
    "\n",
    "for i in q3_sorted_keys:\n",
    "\n",
    "    x.append(i)\n",
    "\n",
    "    y.append(q3[i])\n",
    "\n",
    "\n",
    "\n",
    "plt.plot(y)\n",
    "\n",
    "plt.title(\"Distribution of Rating among Movies\")\n",
    "plt.xlabel(\"Movie index by decreasing Frequency\")\n",
    "plt.ylabel(\"Number of Ratings per Movie\")\n",
    "\n",
    "\n",
    "plt.show()\n",
    "plt.savefig(\"distribution_of_rating_among_movies.png\")\n",
    "\n",
    "plt.close()\n",
    "'''"
   ]
  },
  {
   "cell_type": "markdown",
   "metadata": {},
   "source": [
    "## 4. Plot distribution of ratings among users"
   ]
  },
  {
   "cell_type": "markdown",
   "metadata": {},
   "source": [
    "To be specific, the\n",
    "X-axis should be the user index ordered by decreasing frequency and the Y -axis\n",
    "should be the number of movies the user have rated."
   ]
  },
  {
   "cell_type": "code",
   "execution_count": 166,
   "metadata": {},
   "outputs": [
    {
     "data": {
      "text/plain": [
       "610"
      ]
     },
     "execution_count": 166,
     "metadata": {},
     "output_type": "execute_result"
    }
   ],
   "source": [
    "c = ratings_df[0].unique() #Gives unique elements\n",
    "d = ratings_df.groupby(0).size() #Gives the count of each element by its movieID\n",
    "d_ = np.array(d)\n",
    "\n",
    "len(d_)"
   ]
  },
  {
   "cell_type": "code",
   "execution_count": 169,
   "metadata": {},
   "outputs": [
    {
     "data": {
      "image/png": "[encoded data removed]",
      "text/plain": [
       "<Figure size 432x288 with 1 Axes>"
      ]
     },
     "metadata": {
      "needs_background": "light"
     },
     "output_type": "display_data"
    }
   ],
   "source": [
    "sorted_index_movies = pd.DataFrame({'unique_userID':c, 'frequency of each userID':d_})\n",
    "sorted_index_movies = sorted_index_movies.sort_values(by=['frequency of each userID'], ascending = False)\n",
    "\n",
    "y = np.array(sorted_index_movies['frequency of each userID'])\n",
    "\n",
    "plt.plot(y)\n",
    "\n",
    "plt.title(\"Distribution of Rating among Users\")\n",
    "plt.xlabel(\"Movie index by decreasing Frequency\")\n",
    "plt.ylabel(\"Number of Ratings per User\")\n",
    "\n",
    "\n",
    "plt.show()\n",
    "plt.savefig(\"distribution_of_rating_among_users.png\")\n",
    "\n",
    "plt.close()"
   ]
  },
  {
   "cell_type": "markdown",
   "metadata": {},
   "source": [
    "**As we can see from the plot, only a small fraction of the users have rated a large number of\n",
    "movies, i.e., more than 1000. Also, the number of movies rated, for a large number of users, after\n",
    "a given point, stabilises and stays around 100-150 movies per user.**"
   ]
  },
  {
   "cell_type": "code",
   "execution_count": 76,
   "metadata": {},
   "outputs": [],
   "source": [
    "'''\n",
    "q4 = dict()\n",
    "\n",
    "for i in range(0,ratings.shape[0]):\n",
    "\n",
    "    if(ratings[i][0] not in q4):\n",
    "\n",
    "        q4[ratings[i][0]] = 1\n",
    "\n",
    "    else:\n",
    "\n",
    "        q4[ratings[i][0]] = q4[ratings[i][0]]+1\n",
    "\n",
    "\n",
    "\n",
    "q4_sorted_keys = sorted(q4, key=q4.get, reverse=True)\n",
    "\n",
    "x = list()\n",
    "\n",
    "y = list()\n",
    "\n",
    "for i in q4_sorted_keys:\n",
    "\n",
    "    x.append(i)\n",
    "\n",
    "    y.append(q4[i])\n",
    "    \n",
    "plt.plot(y)\n",
    "\n",
    "plt.title(\"Distribution of Rating among Users\")\n",
    "plt.xlabel(\"User index by decreasing frequency\")\n",
    "plt.ylabel(\"Number of Movies the Users have rated\")\n",
    "\n",
    "plt.show()\n",
    "\n",
    "plt.savefig(\"distribution_of_ratings_among_users.png\")\n",
    "\n",
    "plt.close()\n",
    "'''"
   ]
  },
  {
   "cell_type": "markdown",
   "metadata": {},
   "source": [
    "## Variance of ratings received by movies"
   ]
  },
  {
   "cell_type": "code",
   "execution_count": 90,
   "metadata": {},
   "outputs": [
    {
     "name": "stderr",
     "output_type": "stream",
     "text": [
      "C:\\Users\\Omkar Mehta\\Anaconda3\\lib\\site-packages\\numpy\\lib\\nanfunctions.py:1545: RuntimeWarning: Degrees of freedom <= 0 for slice.\n",
      "  keepdims=keepdims)\n"
     ]
    },
    {
     "data": {
      "image/png": "[encoded data removed]",
      "text/plain": [
       "<Figure size 432x288 with 1 Axes>"
      ]
     },
     "metadata": {
      "needs_background": "light"
     },
     "output_type": "display_data"
    }
   ],
   "source": [
    "counter = 0\n",
    "\n",
    "map = dict()\n",
    "\n",
    "for i in range(0,ratings.shape[0]):\n",
    "\n",
    "    if(ratings[i][1] not in map):\n",
    "\n",
    "        map[ratings[i][1]] = counter\n",
    "\n",
    "        counter = counter+1\n",
    "\n",
    "                          \n",
    "\n",
    "data = np.zeros((1000,10000))\n",
    "\n",
    "data[:] = np.nan\n",
    "\n",
    "for i in range(0,ratings.shape[0]):\n",
    "\n",
    "    data[ratings[i][0].astype(int)][map[ratings[i][1]]] = ratings[i][2]\n",
    "\n",
    "\n",
    "\n",
    "q5 = np.square(np.nanstd(data,axis = 0))\n",
    "\n",
    "bins = [0,0.5,1.0,1.5,2,2.5,3,3.5,4,4.5,5,5.5]\n",
    "\n",
    "h, bins = np.histogram(q5, bins=bins, range=(min(bins),max(bins)))\n",
    "\n",
    "plt.hist(bins[0:11],weights = h,edgecolor=\"k\")\n",
    "\n",
    "\n",
    "\n",
    "plt.title(\"Variance of Rating Values received by each Movie\")\n",
    "plt.xlabel(\"Variance\")\n",
    "plt.ylabel(\"Number of Movies\")\n",
    "\n",
    "plt.show()\n",
    "\n",
    "plt.savefig(\"variance_of_ratings_by_movies.png\")\n",
    "\n",
    "plt.close()\n",
    "\n"
   ]
  },
  {
   "cell_type": "markdown",
   "metadata": {},
   "source": [
    "**As we can see from the graph, maximum number of movies have a variance of the ratings in the\n",
    "range of 0-0.5. This shows that for most of the movies, the ratings given by users don’t differ by\n",
    "much, and are usually the same. Also, as the variance increases, the number of movies lying in\n",
    "the range decreases, showing that very few movies have such contrasting ratings.**"
   ]
  },
  {
   "cell_type": "code",
   "execution_count": null,
   "metadata": {},
   "outputs": [],
   "source": []
  }
 ],
 "metadata": {
  "kernelspec": {
   "display_name": "Python 3",
   "language": "python",
   "name": "python3"
  },
  "language_info": {
   "codemirror_mode": {
    "name": "ipython",
    "version": 3
   },
   "file_extension": ".py",
   "mimetype": "text/x-python",
   "name": "python",
   "nbconvert_exporter": "python",
   "pygments_lexer": "ipython3",
   "version": "3.7.1"
  }
 },
 "nbformat": 4,
 "nbformat_minor": 2
}
